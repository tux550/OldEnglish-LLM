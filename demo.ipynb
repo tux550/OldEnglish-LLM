{
 "cells": [
  {
   "cell_type": "markdown",
   "metadata": {},
   "source": [
    "Import required libraries"
   ]
  },
  {
   "cell_type": "code",
   "execution_count": 48,
   "metadata": {},
   "outputs": [],
   "source": [
    "# Agent libs\n",
    "from langchain.agents import initialize_agent, Tool\n",
    "from langchain.tools import StructuredTool\n",
    "from langchain.llms import OpenAI\n",
    "from langchain_openai import ChatOpenAI\n",
    "from langchain.prompts import PromptTemplate, FewShotPromptTemplate\n",
    "from langchain.memory import ConversationBufferMemory\n",
    "from pydantic import BaseModel\n",
    "# Environment libs\n",
    "import os\n",
    "\n",
    "from dotenv import load_dotenv\n",
    "load_dotenv()\n",
    "\n",
    "OPENAI_API_KEY = os.getenv(\"OPENAI_API_KEY\")\n",
    "TRANSLATOR_MODEL = os.getenv(\"TRANSLATOR_MODEL\")\n",
    "#assert OPENAI_API_KEY, \"Please set the OPENAI_API_KEY environment variable\"\n",
    "#assert TRANSLATOR_MODEL, \"Please set the TRANSLATOR_MODEL environment variable\""
   ]
  },
  {
   "cell_type": "markdown",
   "metadata": {},
   "source": [
    "## Agents\n",
    "\n",
    "- Generator:\n",
    "  - Context: Seed sentences\n",
    "  - Action: Generate a combination of sentences\n",
    "- Translator:\n",
    "  - Context: Example translations\n",
    "  - Action: Translate source sentence to target language"
   ]
  },
  {
   "cell_type": "code",
   "execution_count": 55,
   "metadata": {},
   "outputs": [],
   "source": [
    "generator = ChatOpenAI(model=\"gpt-4o-mini\")\n",
    "\n",
    "def generate_text(seed_sentences: list[str]) -> str:\n",
    "    prompt = PromptTemplate.from_template(\"Sentence {i}: {sentence}\")\n",
    "    examples = [{\"i\": i, \"sentence\": sentence} for i, sentence in enumerate(seed_sentences)]\n",
    "    few_shot_prompt = FewShotPromptTemplate(\n",
    "        examples=examples,\n",
    "        example_prompt=prompt,\n",
    "        prefix=\"Create a new different sentence that contains words from the following sentences. The new sentence should make logical sense and be grammatically correct sentence. The new sentence should be the same length as the original sentences.\\n\",\n",
    "        suffix=\"\\nNew sentence:\"\n",
    "    )\n",
    "    prompt_text = few_shot_prompt.format()\n",
    "    # DEBUG: print(prompt_text)\n",
    "    response = generator.invoke(prompt_text)\n",
    "    return response.content # type: ignore\n",
    "\n",
    "\n",
    "\n",
    "\n",
    "translator = ChatOpenAI(model=\"gpt-4o-mini\") # PLACEHOLDER\n",
    "\n",
    "class TranslationInput(BaseModel):\n",
    "    text: str\n",
    "    examples: list[tuple[str, str]]\n",
    "\n",
    "def translate_text(input_data : TranslationInput) -> str:\n",
    "    translation_prompt = PromptTemplate.from_template(\"[EN]{source_text}[/EN]\\n[ANG]{target_text}[/ANG]\")\n",
    "    translation_examples = [{\"source_text\": source_text, \"target_text\": target_text} for source_text, target_text in input_data.examples]\n",
    "\n",
    "    few_shot_prompt = FewShotPromptTemplate(\n",
    "        examples=translation_examples,\n",
    "        example_prompt=translation_prompt,\n",
    "        prefix=\"Translate the following text from English to Anglo-Saxon:\\n\",\n",
    "        suffix=f\"\\n[EN]{input_data.text}[/EN]\\n[ANG]\",\n",
    "        input_variables=[\"text\"]\n",
    "    )\n",
    "    prompt_text = few_shot_prompt.format(text=input_data.text)\n",
    "    # DEBUG: print(prompt_text)\n",
    "    response = translator.invoke(prompt_text)\n",
    "    return response.content # type: ignore"
   ]
  },
  {
   "cell_type": "code",
   "execution_count": 56,
   "metadata": {},
   "outputs": [],
   "source": [
    "# Tools\n",
    "\n",
    "generator_tool = Tool(\n",
    "    name=\"generate_text\",\n",
    "    description=\"Generate a new sentence that contains words from the given sentences.\",\n",
    "    input_variables=[\"seed_sentences\"],\n",
    "    output_variables=[\"new_sentence\"],\n",
    "    func=generate_text\n",
    ")\n",
    "\n",
    "translator_tool = Tool(\n",
    "    name=\"translate_text\",\n",
    "    description=\"Translate the given text from English to Anglo-Saxon.\",\n",
    "    input_variables=[\"data\"],\n",
    "    output_variables=[\"translation\"],\n",
    "    func=translate_text\n",
    ")\n"
   ]
  },
  {
   "cell_type": "code",
   "execution_count": 57,
   "metadata": {},
   "outputs": [],
   "source": [
    "# Initalize pipeline/agents\n",
    "def agent_pipeline(example_sentences: list[tuple[str, str]]):\n",
    "\n",
    "    seed_sentences = [sentence[0] for sentence in example_sentences]\n",
    "\n",
    "    new_english_sentence = generator_tool.run({\"seed_sentences\":seed_sentences})\n",
    "\n",
    "    data = TranslationInput(text=new_english_sentence, examples=example_sentences)\n",
    "\n",
    "    new_anglo_saxon_sentence = translator_tool.run({\"data\":data})\n",
    "    return new_english_sentence, new_anglo_saxon_sentence\n"
   ]
  },
  {
   "cell_type": "code",
   "execution_count": 58,
   "metadata": {},
   "outputs": [
    {
     "name": "stdout",
     "output_type": "stream",
     "text": [
      "Create a new different sentence that contains words from the following sentences. The new sentence should make logical sense and be grammatically correct sentence. The new sentence should be the same length as the original sentences.\n",
      "\n",
      "\n",
      "Sentence 0: now was one of the twelve of christ's companions, who was called judas, seduced by the instigation of the devil, and he went to the jewish people, and consulted with them how he might betray christ unto them.\n",
      "\n",
      "Sentence 1: in that battle fell the power and dignity of the medes.\n",
      "\n",
      "Sentence 2: 46 shillings shall be given as compensation for a wound on the head, if both bones are pierced.\n",
      "\n",
      "\n",
      "New sentence:\n",
      "Translate the following text from English to Anglo-Saxon:\n",
      "\n",
      "\n",
      "[EN]now was one of the twelve of christ's companions, who was called judas, seduced by the instigation of the devil, and he went to the jewish people, and consulted with them how he might betray christ unto them.[/EN]\n",
      "[ANG]ða wearð an ðæra twelfa cristes geferena, se wæs iudas gehaten, ðurh deofles tihtinge beswicen, and he eode to ðam iudeiscum folce, and smeade wið hi, hu he crist him belæwan mihte.[/ANG]\n",
      "\n",
      "[EN]in that battle fell the power and dignity of the medes.[/EN]\n",
      "[ANG]and on ðæm gefeohte meða cræft and heora duguð gefeoll.[/ANG]\n",
      "\n",
      "[EN]46 shillings shall be given as compensation for a wound on the head, if both bones are pierced.[/EN]\n",
      "[ANG]xl. heafodwunde to bote, gif ða ban beoð butu ðyrel, xxx scillinga geselle him mon.[/ANG]\n",
      "\n",
      "\n",
      "[EN]In that battle, one of the medes fell, seduced by the power and dignity of his companions.[/EN]\n",
      "[ANG]\n",
      "In that battle, one of the medes fell, seduced by the power and dignity of his companions.\n",
      "And on ðæm gefeohte, an ðæra meda feoll, beswicen þurh cræft and heora duguð.\n"
     ]
    }
   ],
   "source": [
    "# USAGE\n",
    "examples=[\n",
    "  (\"now was one of the twelve of christ's companions, who was called judas, seduced by the instigation of the devil, and he went to the jewish people, and consulted with them how he might betray christ unto them.\", \"ða wearð an ðæra twelfa cristes geferena, se wæs iudas gehaten, ðurh deofles tihtinge beswicen, and he eode to ðam iudeiscum folce, and smeade wið hi, hu he crist him belæwan mihte.\"),\n",
    "  (\"in that battle fell the power and dignity of the medes.\", \"and on ðæm gefeohte meða cræft and heora duguð gefeoll.\"),\n",
    "  (\"46 shillings shall be given as compensation for a wound on the head, if both bones are pierced.\", \"xl. heafodwunde to bote, gif ða ban beoð butu ðyrel, xxx scillinga geselle him mon.\")\n",
    "]\n",
    "\n",
    "new_english_sentence, new_anglo_saxon_sentence = agent_pipeline(examples)\n",
    "print(new_english_sentence)\n",
    "print(new_anglo_saxon_sentence)"
   ]
  }
 ],
 "metadata": {
  "kernelspec": {
   "display_name": "venv",
   "language": "python",
   "name": "python3"
  },
  "language_info": {
   "codemirror_mode": {
    "name": "ipython",
    "version": 3
   },
   "file_extension": ".py",
   "mimetype": "text/x-python",
   "name": "python",
   "nbconvert_exporter": "python",
   "pygments_lexer": "ipython3",
   "version": "3.11.9"
  }
 },
 "nbformat": 4,
 "nbformat_minor": 2
}
